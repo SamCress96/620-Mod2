{
 "cells": [
  {
   "cell_type": "markdown",
   "id": "3897b100",
   "metadata": {},
   "source": [
    "Samantha Cress"
   ]
  },
  {
   "cell_type": "code",
   "execution_count": 1,
   "id": "faa7c65c",
   "metadata": {},
   "outputs": [
    {
     "name": "stdout",
     "output_type": "stream",
     "text": [
      "*      *\n",
      "**    **\n",
      "***  ***\n",
      "********\n"
     ]
    }
   ],
   "source": [
    " i = 1\n",
    "while i<=4:\n",
    "      print((\"*\" * i)+(\"  \"*(4-i) + \"*\" * i))\n",
    "      i+=1 "
   ]
  }
 ],
 "metadata": {
  "kernelspec": {
   "display_name": "Python 3 (ipykernel)",
   "language": "python",
   "name": "python3"
  },
  "language_info": {
   "codemirror_mode": {
    "name": "ipython",
    "version": 3
   },
   "file_extension": ".py",
   "mimetype": "text/x-python",
   "name": "python",
   "nbconvert_exporter": "python",
   "pygments_lexer": "ipython3",
   "version": "3.9.12"
  }
 },
 "nbformat": 4,
 "nbformat_minor": 5
}
