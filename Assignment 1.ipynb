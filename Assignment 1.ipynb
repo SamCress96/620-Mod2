{
 "cells": [
  {
   "cell_type": "markdown",
   "metadata": {},
   "source": [
    "# Web Mining and Applied NLP (44-620)\n",
    "\n",
    "## Python Notebooks, Basics, and Data Structures\n",
    "\n",
    "### Student Name: Samantha Cress\n",
    "\n",
    "Perform the tasks described in the Markdown cells below.  When you have completed the assignment make sure your code cells have all been run (and have output beneath them) and ensure you have committed and pushed ALL of your changes to your assignment repository.\n",
    "\n",
    "Every question that requires you to write code will have a code cell underneath it; you may either write your entire solution in that cell or write it in a python file (`.py`), then import and run the appropriate code to answer the question.\n",
    "\n",
    "Do not use external modules (`math`, etc) for this assignment unless you are explicitly instructed to, though you may use built in python functions (`min`, `max`, etc) as you wish."
   ]
  },
  {
   "cell_type": "markdown",
   "metadata": {},
   "source": [
    "1. Modify the Markdown cell above to put your name after \"Student Name:\"; you will be expected to do this in all assignments presented in this format for this class."
   ]
  },
  {
   "cell_type": "markdown",
   "metadata": {},
   "source": [
    "2. Write code that divides any two numbers, stores the result in a variable, and prints the result with an appropriate label."
   ]
  },
  {
   "cell_type": "code",
   "execution_count": 41,
   "metadata": {},
   "outputs": [
    {
     "name": "stdout",
     "output_type": "stream",
     "text": [
      "input the 1st number  : 70\n",
      "input the 2nd number  : 8\n",
      "The division is 8.75\n"
     ]
    }
   ],
   "source": [
    "def divideNum(x,y):\n",
    "    divide=x/y\n",
    "    return divide\n",
    "num1=int(input(\"input the 1st number  : \"))\n",
    "num2=int(input(\"input the 2nd number  : \")) \n",
    "print(\"The division is\",divideNum(num1,num2))"
   ]
  },
  {
   "cell_type": "markdown",
   "metadata": {},
   "source": [
    "3. Using loops (and potentially conditionals), write Python code that prints the factorial of each integer from 1 through 10 (which you can store in a variable if you want). The factorial of an integer is the product of all of the integers of 1 through the number. Print the result with an appropriate label."
   ]
  },
  {
   "cell_type": "code",
   "execution_count": 44,
   "metadata": {},
   "outputs": [
    {
     "name": "stdout",
     "output_type": "stream",
     "text": [
      "Enter a number: 5\n",
      "The factorial of 5 is 120\n"
     ]
    }
   ],
   "source": [
    "num = int(input(\"Enter a number: \"))\n",
    "\n",
    "factorial = 1\n",
    "\n",
    "if num <= 0:\n",
    "   print(\"please enter number between 1 and 10\")\n",
    "elif num > 10:\n",
    "    print(\"please enter number less than 10\")\n",
    "elif num == 0:\n",
    "   print(\"The factorial of 0 is 1\")\n",
    "else:\n",
    "   for i in range(1,num + 1):\n",
    "       factorial = factorial*i\n",
    "   print(\"The factorial of\",num,\"is\",factorial)"
   ]
  },
  {
   "cell_type": "markdown",
   "metadata": {},
   "source": [
    "4. Write a python function that takes a single parameter and calculates and returns the average (mean) of the values in the parameter (which you may assume is iterable).  Show that your function works by printing the result of calling the function on the list in the cell below."
   ]
  },
  {
   "cell_type": "code",
   "execution_count": 3,
   "metadata": {},
   "outputs": [
    {
     "name": "stdout",
     "output_type": "stream",
     "text": [
      "Average value of the list:\n",
      "\n",
      "0.0\n"
     ]
    }
   ],
   "source": [
    "from functools import reduce \n",
    "\n",
    "inp_lst = [1,-1,2,-2,3,-3,4,-4]\n",
    "\n",
    "lst_len= len(inp_lst)\n",
    "\n",
    "lst_avg = reduce(lambda x, y: x + y, inp_lst) /lst_len \n",
    "print(\"Average value of the list:\\n\") \n",
    "print(lst_avg)"
   ]
  },
  {
   "cell_type": "code",
   "execution_count": 4,
   "metadata": {},
   "outputs": [],
   "source": [
    "testlist = [1,-1,2,-2,3,-3,4,-4]"
   ]
  },
  {
   "cell_type": "code",
   "execution_count": 5,
   "metadata": {},
   "outputs": [
    {
     "name": "stdout",
     "output_type": "stream",
     "text": [
      "The original list is : [1, -1, 2, -2, 3, -3, 4, -4]\n",
      "The variance of list is : 7.5\n"
     ]
    }
   ],
   "source": [
    "test_list = [1,-1,2,-2,3,-3,4,-4]\n",
    "# printing original list\n",
    "print(\"The original list is : \" + str(test_list))\n",
    "  \n",
    "# Variance of List\n",
    "# using loop + formula\n",
    "mean = sum(test_list) / len(test_list)\n",
    "res = sum((i - mean) ** 2 for i in test_list) / len(test_list)\n",
    "  \n",
    "# printing result\n",
    "print(\"The variance of list is : \" + str(res))"
   ]
  },
  {
   "cell_type": "markdown",
   "metadata": {},
   "source": [
    "5. Using your mean function above, write a function that calculates the variance of the list of numbers (see https://en.wikipedia.org/wiki/Variance for more information on the formula). In short:\n",
    "* subtract the mean of the elements in the list from every element in the list; store these values in a new list\n",
    "* square every element in the new list and sum the elements together\n",
    "* divide the resulting number by N (where N is the length of the original list)\n",
    "\n",
    "Show the result of calling your function in the lists in the code cell. You must use one or more list comprehensions or map/filter in your code.\n"
   ]
  },
  {
   "cell_type": "code",
   "execution_count": 6,
   "metadata": {},
   "outputs": [],
   "source": [
    "list1 = [ 5.670e-1, -1.480e+0, -5.570e-1, -1.470e+0, 7.340e-1, 1.050e+0, 4.480e-1, 2.570e-1, -1.970e+0, -1.460e+0]\n",
    "list2 = [-1.780e+0, 2.640e-1, 1.160e+0, 9.080e-1, 1.780e+0, 1.080e+0, 1.050e+0, -4.630e-2, 1.520e+0, 5.350e-1]\n",
    "# the variances of both lists should be relatively close to 1 (off by less than .15)"
   ]
  },
  {
   "cell_type": "code",
   "execution_count": 7,
   "metadata": {},
   "outputs": [
    {
     "name": "stdout",
     "output_type": "stream",
     "text": [
      "The original list is : [0.567, -1.48, -0.557, -1.47, 0.734, 1.05, 0.448, 0.257, -1.97, -1.46]\n",
      "The variance of list is : 1.13973309\n"
     ]
    }
   ],
   "source": [
    "test_list = [ 5.670e-1, -1.480e+0, -5.570e-1, -1.470e+0, 7.340e-1, 1.050e+0, 4.480e-1, 2.570e-1, -1.970e+0, -1.460e+0]\n",
    "# printing original list\n",
    "print(\"The original list is : \" + str(test_list))\n",
    "  \n",
    "# Variance of List\n",
    "# using loop + formula\n",
    "mean = sum(test_list) / len(test_list)\n",
    "res = sum((i - mean) ** 2 for i in test_list) / len(test_list)\n",
    "  \n",
    "# printing result\n",
    "print(\"The variance of list is : \" + str(res))"
   ]
  },
  {
   "cell_type": "code",
   "execution_count": 8,
   "metadata": {},
   "outputs": [
    {
     "name": "stdout",
     "output_type": "stream",
     "text": [
      "The original list is : [-1.78, 0.264, 1.16, 0.908, 1.78, 1.08, 1.05, -0.0463, 1.52, 0.535]\n",
      "The variance of list is : 0.9257232841\n"
     ]
    }
   ],
   "source": [
    "test_list = [-1.780e+0, 2.640e-1, 1.160e+0, 9.080e-1, 1.780e+0, 1.080e+0, 1.050e+0, -4.630e-2, 1.520e+0, 5.350e-1]\n",
    "# printing original list\n",
    "print(\"The original list is : \" + str(test_list))\n",
    "  \n",
    "# Variance of List\n",
    "# using loop + formula\n",
    "mean = sum(test_list) / len(test_list)\n",
    "res = sum((i - mean) ** 2 for i in test_list) / len(test_list)\n",
    "  \n",
    "# printing result\n",
    "print(\"The variance of list is : \" + str(res))"
   ]
  },
  {
   "cell_type": "markdown",
   "metadata": {},
   "source": [
    "6. Create a list with at least 15 elements in it. Use list slicing to print the following:\n",
    "* The first 5 elements of the list\n",
    "* The last 5 elements of the list\n",
    "* The list reversed (hint, show the entire list with a stride of -1)\n",
    "* Every second element in the list\n",
    "* Every third element in the list (stride of 3)"
   ]
  },
  {
   "cell_type": "code",
   "execution_count": 9,
   "metadata": {},
   "outputs": [
    {
     "name": "stdout",
     "output_type": "stream",
     "text": [
      "['cat', 'dog', 'fish', 'rat', 'lizard']\n",
      "['monkey', 'shark', 'kangaroo', 'shark', 'turtle']\n",
      "['turtle', 'shark', 'kangaroo', 'shark', 'monkey', 'moose', 'bat', 'lion', 'mouse', 'tiger', 'lizard', 'rat', 'fish', 'dog', 'cat']\n",
      "['cat', 'fish', 'lizard', 'mouse', 'bat', 'monkey', 'kangaroo', 'turtle']\n",
      "['cat', 'rat', 'mouse', 'moose', 'kangaroo']\n"
     ]
    }
   ],
   "source": [
    "animals = ['cat', 'dog', 'fish', 'rat', 'lizard', 'tiger', 'mouse', 'lion', 'bat', 'moose', 'monkey', 'shark', 'kangaroo',\n",
    "       'shark', 'turtle']\n",
    "print(animals[0:5])\n",
    "print(animals[10:15])\n",
    "print(animals[::-1])\n",
    "print(animals[::2])\n",
    "print(animals[::3])"
   ]
  },
  {
   "cell_type": "markdown",
   "metadata": {},
   "source": [
    "7. Build a dictionary that contains the following information about this class (with appropriate names as keys):\n",
    "* The name\n",
    "* The course number\n",
    "* The semester/term in which you are taking this course\n",
    "* The number of credit hours this course counts for\n",
    "* A list of the course learning objectives\n",
    "\n",
    "The majority of this information can be found in the syllabus. Print the dictionary."
   ]
  },
  {
   "cell_type": "code",
   "execution_count": 10,
   "metadata": {},
   "outputs": [
    {
     "name": "stdout",
     "output_type": "stream",
     "text": [
      "{'Course Name': 'Web Mining and Applied Natural Language Processing', 'Course Number': '44-620', 'Term': 'Fall 2022', 'Credit Hours': '3', 'Course Learning Objectives': ['Manage Python libraries and packages', 'Interact with Hosted Version Control Systems', 'Programmatically obtain and transform data from web-based APIs and HTML pages into a usable form', 'Use preexisting tools and software libraries to perform some Natural Language Processing, such as sentiment analysis', 'Explain results and conclusions drawn from the visualized information.']}\n"
     ]
    }
   ],
   "source": [
    "Class_Dictionary = {'Course Name': 'Web Mining and Applied Natural Language Processing', 'Course Number': '44-620', 'Term': 'Fall 2022',\n",
    "                    'Credit Hours': '3', 'Course Learning Objectives': ['Manage Python libraries and packages', 'Interact with Hosted Version Control Systems',\n",
    "                    'Programmatically obtain and transform data from web-based APIs and HTML pages into a usable form', 'Use preexisting tools and software libraries to perform some Natural Language Processing, such as sentiment analysis',\n",
    "                    'Explain results and conclusions drawn from the visualized information.']}\n",
    "print(Class_Dictionary)"
   ]
  },
  {
   "cell_type": "markdown",
   "metadata": {},
   "source": [
    "8.  Given the dictionary defined in the code cell below, print the list of level 3 spells the character has."
   ]
  },
  {
   "cell_type": "code",
   "execution_count": 11,
   "metadata": {},
   "outputs": [
    {
     "name": "stdout",
     "output_type": "stream",
     "text": [
      "{'name': 'Kitab', 'class': [('Cleric: Knowledge', 7)], 'spells': {'cantrip': ['Guidance', 'Light', 'Thaumaturgy', 'Toll the Dead', 'Word of Radiance'], 'level 1': ['Command', 'Detect Magic', 'Healing Word', 'Identify', 'Sleep'], 'level 2': ['Augury', 'Calm Emotions', 'Command', 'Invisibility', 'Lesser Restoration'], 'level 3': ['Mass Healing Word', 'Nondetection', 'Revivify', 'Feign Death', 'Speak with Dead'], 'level 4': ['Banishment', 'Confusion']}}\n"
     ]
    }
   ],
   "source": [
    "player_character = {'name': 'Kitab',\n",
    "                   'class': [('Cleric: Knowledge', 7)],\n",
    "                   'spells': {'cantrip': ['Guidance', 'Light', 'Thaumaturgy', 'Toll the Dead', 'Word of Radiance'],\n",
    "                             'level 1': ['Command', 'Detect Magic', 'Healing Word', 'Identify', 'Sleep'],\n",
    "                             'level 2': ['Augury', 'Calm Emotions', 'Command', 'Invisibility', 'Lesser Restoration'],\n",
    "                             'level 3': ['Mass Healing Word', 'Nondetection', 'Revivify', 'Feign Death', 'Speak with Dead'],\n",
    "                             'level 4': ['Banishment', 'Confusion']}\n",
    "                   }\n",
    "print(player_character)"
   ]
  },
  {
   "cell_type": "code",
   "execution_count": 12,
   "metadata": {},
   "outputs": [
    {
     "name": "stdout",
     "output_type": "stream",
     "text": [
      "['Mass Healing Word', 'Nondetection', 'Revivify', 'Feign Death', 'Speak with Dead']\n"
     ]
    }
   ],
   "source": [
    "print(player_character['spells']['level 3'])"
   ]
  },
  {
   "cell_type": "markdown",
   "metadata": {},
   "source": [
    "9. Write code to determine the number of unique elements in the list below.  You MUST use a set in finding your solution.  Print the number of unique values in the list with an appropriate label."
   ]
  },
  {
   "cell_type": "code",
   "execution_count": 13,
   "metadata": {},
   "outputs": [],
   "source": [
    "values = [10, 11, 10, 8, 1, 12, 0, 1, 6, 5, 5, 13, 6, 15, 0, 0, 1, 1, 9, 7]"
   ]
  },
  {
   "cell_type": "code",
   "execution_count": 3,
   "metadata": {},
   "outputs": [
    {
     "name": "stdout",
     "output_type": "stream",
     "text": [
      "Unique Elements: [0, 1, 5, 6, 7, 8, 9, 10, 11, 12, 13, 15]\n"
     ]
    }
   ],
   "source": [
    "values = [10, 11, 10, 8, 1, 12, 0, 1, 6, 5, 5, 13, 6, 15, 0, 0, 1, 1, 9, 7]\n",
    "\n",
    "\n",
    "def unique_elements(values):\n",
    "\n",
    "    list_of_unique_elements = []\n",
    "\n",
    "    unique_elements = set(values)\n",
    "\n",
    "    for values in unique_elements:\n",
    "        list_of_unique_elements.append(values)\n",
    "\n",
    "    return list_of_unique_elements\n",
    "\n",
    "\n",
    "print('Unique Elements:', unique_elements(values))"
   ]
  },
  {
   "cell_type": "markdown",
   "metadata": {},
   "source": [
    "10. Create a new Jupyter Notebook (the name of the notebook should be your S number). Add a Markdown cell that contains your name. Add a Code cell and write Python that uses loops to draw the following pattern:\n",
    "\n",
    "```\n",
    "*      *\n",
    "**    **\n",
    "***  ***\n",
    "********\n",
    "```\n",
    "Make sure to add and submit both the new notebook and the changes to this notebook for this assignment."
   ]
  }
 ],
 "metadata": {
  "kernelspec": {
   "display_name": "Python 3 (ipykernel)",
   "language": "python",
   "name": "python3"
  },
  "language_info": {
   "codemirror_mode": {
    "name": "ipython",
    "version": 3
   },
   "file_extension": ".py",
   "mimetype": "text/x-python",
   "name": "python",
   "nbconvert_exporter": "python",
   "pygments_lexer": "ipython3",
   "version": "3.9.12"
  }
 },
 "nbformat": 4,
 "nbformat_minor": 4
}
